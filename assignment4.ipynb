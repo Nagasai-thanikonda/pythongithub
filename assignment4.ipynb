{
 "cells": [
  {
   "cell_type": "markdown",
   "id": "75be91dd-52e0-47e9-be4a-8f952a06cabf",
   "metadata": {},
   "source": [
    "**Assinment-4**"
   ]
  },
  {
   "cell_type": "markdown",
   "id": "a4f75331-a6cf-4d85-b1fa-914accd29544",
   "metadata": {},
   "source": [
    "**question-1**"
   ]
  },
  {
   "cell_type": "code",
   "execution_count": 1,
   "id": "394e29bd-9b5d-4a2a-a05b-09c0e03d053b",
   "metadata": {},
   "outputs": [
    {
     "name": "stdin",
     "output_type": "stream",
     "text": [
      "enter the number1: 20\n"
     ]
    },
    {
     "name": "stdout",
     "output_type": "stream",
     "text": [
      "given number is even number\n"
     ]
    }
   ],
   "source": [
    "#write a program \n",
    "#ask the user enter a number\n",
    "#find it even number or odd number.\n",
    "num1=eval(input(\"enter the number1:\"))\n",
    "if num1%2==0:\n",
    "    print('given number is even number')\n",
    "else:\n",
    "    print('it is odd number')"
   ]
  },
  {
   "cell_type": "markdown",
   "id": "ced1ff7a-9f41-4373-91e2-2fd5f5edfc1f",
   "metadata": {},
   "source": [
    "**question-2**\n",
    "\n"
   ]
  },
  {
   "cell_type": "code",
   "execution_count": 2,
   "id": "bd5f7edf-1c05-4293-9fef-947024af33e2",
   "metadata": {},
   "outputs": [],
   "source": [
    "\n",
    "import random"
   ]
  },
  {
   "cell_type": "code",
   "execution_count": 6,
   "id": "49fe45f3-42ee-42b5-9df6-38f3c4b930dc",
   "metadata": {},
   "outputs": [
    {
     "name": "stdin",
     "output_type": "stream",
     "text": [
      "enter the start value 1\n",
      "enter the end value 100\n"
     ]
    },
    {
     "name": "stdout",
     "output_type": "stream",
     "text": [
      "6\n",
      "it is even number 6\n"
     ]
    }
   ],
   "source": [
    "#write a program \n",
    "#implement the program by taking a random input between1,100\n",
    "#find it even number or odd number.\n",
    "start=eval(input(\"enter the start value\"))\n",
    "end=eval(input(\"enter the end value\"))\n",
    "num=random.randint(start,end)\n",
    "print(num)\n",
    "if num%2==0:\n",
    "    print(f\"it is even number {num}\")\n",
    "else:\n",
    "     print(f\"it is odd number {num}\")"
   ]
  },
  {
   "cell_type": "markdown",
   "id": "2db2e5ae-b995-435f-a259-f3beb2bf6db4",
   "metadata": {},
   "source": [
    "**question-3**"
   ]
  },
  {
   "cell_type": "code",
   "execution_count": 11,
   "id": "ccc27d9a-2feb-4b83-aa79-4d388eaef731",
   "metadata": {},
   "outputs": [
    {
     "name": "stdin",
     "output_type": "stream",
     "text": [
      "enter the distance in km: 70\n",
      "enter the cutoff_distance: 25\n"
     ]
    },
    {
     "name": "stdout",
     "output_type": "stream",
     "text": [
      "good new your charge is applicable for only remaining distance-cutoff_distance\n",
      "the total distance to pay the amount is 45\n"
     ]
    },
    {
     "name": "stdin",
     "output_type": "stream",
     "text": [
      "enter the charge for one km: 5\n"
     ]
    },
    {
     "name": "stdout",
     "output_type": "stream",
     "text": [
      "the total  amount is 225\n"
     ]
    }
   ],
   "source": [
    "#wap ask the user enter distance\n",
    "#cutoff distance enter the number=#25\n",
    "#if distance greater than 25km\n",
    "#print(\"good new your charge is applicable for only remaining \"distance-cutoff_distance\" \")\n",
    "#charge distance\n",
    "#enter the charge\n",
    "#print total cost\n",
    "#otherwise\n",
    "#print free raids\n",
    "distance=eval(input(\"enter the distance in km:\"))\n",
    "cutoff_distance=eval(input(\"enter the cutoff_distance:\"))\n",
    "if distance>25:\n",
    "    print(\"good new your charge is applicable for only remaining distance-cutoff_distance\")\n",
    "    charge_distance=distance-cutoff_distance\n",
    "    print(f\"the total distance to pay the amount is {charge_distance}\")\n",
    "    charge=eval(input(\"enter the charge for one km:\"))\n",
    "    total_cost=charge*charge_distance\n",
    "    print(f\"the total  amount is {total_cost}\")\n",
    "else:\n",
    "    print(\"enjoy free raid\")\n",
    "    \n"
   ]
  },
  {
   "cell_type": "markdown",
   "id": "5e70abb9-4f01-443a-89a2-3992cabc4f5b",
   "metadata": {},
   "source": [
    "**question-4**"
   ]
  },
  {
   "cell_type": "code",
   "execution_count": 8,
   "id": "71487b01-a259-4f1b-95be-e971e58d88c3",
   "metadata": {},
   "outputs": [
    {
     "name": "stdin",
     "output_type": "stream",
     "text": [
      "enter the distance in km: 30\n",
      "enter the charge for one km: 3\n"
     ]
    },
    {
     "name": "stdout",
     "output_type": "stream",
     "text": [
      "the total cost for a raid is 90\n"
     ]
    }
   ],
   "source": [
    "#wap ask the user enter distance\n",
    "#if distance greater than 25km\n",
    "#then enter the charge\n",
    "#print total cost\n",
    "#otherwise\n",
    "#print free raids\n",
    "distance=eval(input(\"enter the distance in km:\"))\n",
    "if distance>25:\n",
    "    charge=eval(input(\"enter the charge for one km:\"))\n",
    "    total_cost=distance*charge\n",
    "    print(f\"the total cost for a raid is {total_cost}\")\n",
    "else:\n",
    "        print(\"its free raid,enjoy\")"
   ]
  },
  {
   "cell_type": "markdown",
   "id": "fc39a171-a841-4adc-a704-7b1717556d65",
   "metadata": {},
   "source": [
    "**question-5**"
   ]
  },
  {
   "cell_type": "code",
   "execution_count": 16,
   "id": "5272f0e4-ce9f-4946-b5e4-b3f7e09c9ef6",
   "metadata": {},
   "outputs": [
    {
     "name": "stdin",
     "output_type": "stream",
     "text": [
      "enter the course name datascience\n",
      "enter the institute name  nareshit\n"
     ]
    },
    {
     "name": "stdout",
     "output_type": "stream",
     "text": [
      "you are good\n"
     ]
    }
   ],
   "source": [
    "#wap ask the user enter the course\n",
    "#ask the user enter the institute\n",
    "#if the course equal to data science and institute equal to naresh it\n",
    "# then you are good\n",
    "#otherwise\n",
    "#you are bad\n",
    "course=input(\"enter the course name\")\n",
    "institute=input(\"enter the institute name \")\n",
    "if course==datascience and institute==nareshit:\n",
    "    print(\"you are good\")\n",
    "else:\n",
    "     print(\"you are bad\")\n",
    "    "
   ]
  },
  {
   "cell_type": "markdown",
   "id": "e2f15508-32ba-406c-8824-bc9b3d504eae",
   "metadata": {},
   "source": [
    "**question-6**"
   ]
  },
  {
   "cell_type": "code",
   "execution_count": 19,
   "id": "f0743965-548b-4813-8c96-8250e20e25ab",
   "metadata": {},
   "outputs": [
    {
     "name": "stdout",
     "output_type": "stream",
     "text": [
      "3\n"
     ]
    },
    {
     "name": "stdin",
     "output_type": "stream",
     "text": [
      "enter the number 3\n"
     ]
    },
    {
     "name": "stdout",
     "output_type": "stream",
     "text": [
      "you won\n"
     ]
    }
   ],
   "source": [
    "#wap ask the user enter a random number between 1 to 10,treat this as number1\n",
    "#ask the user enter another number from keyboard,treat this as number2\n",
    "#if number1 equal to number 2\n",
    "#print you won\n",
    "#othewise\n",
    "#print you lost\n",
    "number1=random.randint(1,10)\n",
    "print(number1)\n",
    "number2=eval(input(\"enter the number\"))\n",
    "if number1==number2:\n",
    "    print(\"you won\")\n",
    "else:\n",
    "     print(\"you lost\")"
   ]
  },
  {
   "cell_type": "markdown",
   "id": "0dc073f6-1e9c-4739-a906-1b71fe3eb621",
   "metadata": {},
   "source": [
    "**question-7**"
   ]
  },
  {
   "cell_type": "code",
   "execution_count": 17,
   "id": "c5d3c54e-30a6-44fe-8c67-df96f0de5b80",
   "metadata": {},
   "outputs": [
    {
     "name": "stdin",
     "output_type": "stream",
     "text": [
      "enter the number 6\n"
     ]
    },
    {
     "name": "stdout",
     "output_type": "stream",
     "text": [
      "enter a valid number\n"
     ]
    }
   ],
   "source": [
    "#wap ask the user enter a number \n",
    "#if number equal to 1 then print one\n",
    "#if number equal to 2then print two\n",
    "#if number equal to 3 then print three\n",
    "#otherwise\n",
    "#print entera valid number\n",
    "num1=eval(input(\"enter the number\"))\n",
    "if num1==1:\n",
    "    print(\"one\")\n",
    "elif num1==2:\n",
    "     print(\"two\")\n",
    "elif num1==3:\n",
    "     print(\"three\")\n",
    "else:\n",
    "     print(\"enter a valid number\")\n",
    "    "
   ]
  },
  {
   "cell_type": "markdown",
   "id": "54f6729e-aafb-4396-a584-dcd0c3700167",
   "metadata": {},
   "source": [
    "**question-8**"
   ]
  },
  {
   "cell_type": "code",
   "execution_count": 18,
   "id": "bcf5f4a4-4590-4366-9973-77322986d3ef",
   "metadata": {},
   "outputs": [
    {
     "name": "stdin",
     "output_type": "stream",
     "text": [
      "enter the number 7\n"
     ]
    },
    {
     "name": "stdout",
     "output_type": "stream",
     "text": [
      "positive\n"
     ]
    }
   ],
   "source": [
    "#wap ask the user enter a number \n",
    "#if number greater than zero, then print positive\n",
    "#if number lesser then zero, print negative\n",
    "#otherwise\n",
    "#print enter zero\n",
    "num1=eval(input(\"enter the number\"))\n",
    "if num1>0:\n",
    "    print(\"positive\")\n",
    "elif num1<0:\n",
    "    print(\"negative\")\n",
    "else:\n",
    "    print(\"zero\")\n"
   ]
  },
  {
   "cell_type": "markdown",
   "id": "d3a2ba5b-03a9-406d-92d5-5d21bb848420",
   "metadata": {},
   "source": [
    "\n",
    "**question-9**"
   ]
  },
  {
   "cell_type": "code",
   "execution_count": 2,
   "id": "62182fe7-204c-4e97-81ca-979a6d1332f1",
   "metadata": {},
   "outputs": [
    {
     "name": "stdin",
     "output_type": "stream",
     "text": [
      "enter the number 95\n"
     ]
    },
    {
     "name": "stdout",
     "output_type": "stream",
     "text": [
      "A grade\n"
     ]
    }
   ],
   "source": [
    "#wap ask the user enter a percentage of marks 1,100\n",
    "#if percentage of marks greater than 90 marks grade A\n",
    "#if percentage of marks between 75 to 90 marks grade b\n",
    "#if percentage of marks between 50 to 75 marks grade c\n",
    "#if percentage of marks between 35 to 50 marks grade d\n",
    "#if percentage less than 35 if fail\n",
    "percentage=eval(input(\"enter the number\"))\n",
    "if percentage>=90:\n",
    "    print(\"A grade\")\n",
    "elif percentage>=75:\n",
    "    print(\"B grade\")\n",
    "elif percentage>=50:\n",
    "    print(\"C grade\")\n",
    "elif percentage>=35:\n",
    "    print(\"D grade\")\n",
    "else:\n",
    "    print(\"fail\")\n",
    "    "
   ]
  },
  {
   "cell_type": "markdown",
   "id": "a951b257-d18e-4433-abd2-5f93a24661c5",
   "metadata": {},
   "source": [
    "**question-10**"
   ]
  },
  {
   "cell_type": "code",
   "execution_count": 1,
   "id": "263205c9-3166-4ac0-a798-f645b1b2e2ab",
   "metadata": {},
   "outputs": [
    {
     "name": "stdin",
     "output_type": "stream",
     "text": [
      "enter the age  18\n"
     ]
    },
    {
     "name": "stdout",
     "output_type": "stream",
     "text": [
      "young age\n"
     ]
    }
   ],
   "source": [
    "#wap ask the user enter age\n",
    "#if the  age greater than75 print old age \n",
    "#if the age is between 50 and 75 print seniour citizen\n",
    "#if the age is between 30 and 50 print middle\n",
    "#if the age is between 15 and 30 print young age \n",
    "#if the age less than 15 print kid\n",
    "age=eval(input(\"enter the age \"))\n",
    "if age>=75:\n",
    "    print(\"old age\")\n",
    "elif age>=50:\n",
    "    print(\"seniour citizen\")\n",
    "elif age>=30:\n",
    "    print(\"middle age\")\n",
    "elif age>=15:\n",
    "    print(\"young age\")\n",
    "else:\n",
    "    print(\"kid\")"
   ]
  },
  {
   "cell_type": "code",
   "execution_count": null,
   "id": "044e5893-624e-49f4-80fc-ee2cfb1e6640",
   "metadata": {},
   "outputs": [],
   "source": []
  }
 ],
 "metadata": {
  "kernelspec": {
   "display_name": "Python 3 (ipykernel)",
   "language": "python",
   "name": "python3"
  },
  "language_info": {
   "codemirror_mode": {
    "name": "ipython",
    "version": 3
   },
   "file_extension": ".py",
   "mimetype": "text/x-python",
   "name": "python",
   "nbconvert_exporter": "python",
   "pygments_lexer": "ipython3",
   "version": "3.11.7"
  }
 },
 "nbformat": 4,
 "nbformat_minor": 5
}
