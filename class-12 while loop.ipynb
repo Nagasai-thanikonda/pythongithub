{
 "cells": [
  {
   "cell_type": "markdown",
   "id": "44ad2711-77d8-41e6-9c71-eb804014ac88",
   "metadata": {},
   "source": [
    "**loop**"
   ]
  },
  {
   "cell_type": "markdown",
   "id": "b54df59a-b4d4-410b-9c99-ee4bf8e9ba73",
   "metadata": {},
   "source": [
    "- for loop\n",
    "- while loop : if you want to run an infinite iteration will choose while loop\n",
    "- every loop need three things\n",
    "-                  #intial point(starting point)\n",
    "-                  #increment or decrement\n",
    "-                  # condition (stop point)\n",
    "    "
   ]
  },
  {
   "cell_type": "code",
   "execution_count": 3,
   "id": "eaaa8433-838b-4660-9c7c-cf32825d9721",
   "metadata": {},
   "outputs": [
    {
     "name": "stdout",
     "output_type": "stream",
     "text": [
      "1 3 5 7 9 "
     ]
    }
   ],
   "source": [
    "for i in range(1,10,2):\n",
    "    print(i,end=' ')"
   ]
  },
  {
   "cell_type": "markdown",
   "id": "08eb5f9f-e041-4dbb-8c0a-ed86b0ed4c7c",
   "metadata": {},
   "source": [
    "- in for loop all three things mensioned in a single line: range(start,stop,step)\n",
    "- in while loop we will use these things, in as a three lines\n"
   ]
  },
  {
   "cell_type": "code",
   "execution_count": null,
   "id": "70cdca25-c9c4-4d6f-a16e-3f16d4221ff3",
   "metadata": {},
   "outputs": [],
   "source": [
    "<start point>\n",
    "while <how to stop>:\n",
    "        <codeline1>\n",
    "        <codeline2>\n",
    "        <increment or decrement>"
   ]
  },
  {
   "cell_type": "code",
   "execution_count": null,
   "id": "49750861-da75-478f-b9d0-e10cb046c35c",
   "metadata": {},
   "outputs": [],
   "source": [
    "if <condition>:\n",
    "    ####\n"
   ]
  },
  {
   "cell_type": "code",
   "execution_count": 11,
   "id": "78d0f1ca-c92b-4674-8250-0108574177b6",
   "metadata": {},
   "outputs": [
    {
     "name": "stdout",
     "output_type": "stream",
     "text": [
      "1 2 3 4 5 6 7 8 9 hello\n"
     ]
    }
   ],
   "source": [
    "for i in range(1,10):\n",
    "    print(i,end=' ')\n",
    "print(\"hello\")"
   ]
  },
  {
   "cell_type": "code",
   "execution_count": null,
   "id": "50a8916f-43b8-4c11-9ad9-6676d55c6a41",
   "metadata": {},
   "outputs": [],
   "source": [
    "#starting point i=1\n",
    "# while <condition to stop>:\n",
    "#       i+1\n"
   ]
  },
  {
   "cell_type": "code",
   "execution_count": null,
   "id": "3bd22b2b-6fa9-4855-9ffe-e9825e7eec06",
   "metadata": {},
   "outputs": [],
   "source": [
    "i=1 \n",
    "while <condition to stop>:\n",
    "    print(i,end=' ')\n",
    "    i=i+1\n",
    "#conditions i<11 1<11 true\n",
    "#           i<11 2<11 true\n",
    "#           i<11 3<11 true\n",
    "#           i<11 11<11 false"
   ]
  },
  {
   "cell_type": "markdown",
   "id": "0960c38d-626d-451a-817e-d5476fd25430",
   "metadata": {},
   "source": [
    "- range(1,10): start=1 last=10-1 =9 step=1"
   ]
  },
  {
   "cell_type": "code",
   "execution_count": null,
   "id": "bbf98fe8-811d-4471-a6b0-7bce9510bc93",
   "metadata": {},
   "outputs": [],
   "source": [
    "i=1\n",
    "while <condition>:\n",
    "    print(i)\n",
    "    i=i+1\n",
    "- correct entry and correct exit\n",
    "- True condition i<5 True"
   ]
  },
  {
   "cell_type": "code",
   "execution_count": 12,
   "id": "9164103d-170c-4502-b405-0a0750e7e5bc",
   "metadata": {},
   "outputs": [
    {
     "name": "stdout",
     "output_type": "stream",
     "text": [
      "1 2 3 4 5 6 7 8 9 10 "
     ]
    }
   ],
   "source": [
    "i=1\n",
    "while i<11:\n",
    "    print(i,end=' ')\n",
    "    i=i+1"
   ]
  },
  {
   "cell_type": "code",
   "execution_count": null,
   "id": "3e15440e-8757-48c7-9a67-b376d14bc1bc",
   "metadata": {},
   "outputs": [],
   "source": [
    "i=1\n",
    "while i<11:\n",
    "    print(i,end=' ')\n",
    "    i=i+1\n",
    "#step-1: i=1 while 1==10 false"
   ]
  },
  {
   "cell_type": "code",
   "execution_count": null,
   "id": "61b7f0de-2758-4cb3-8b54-93d280527007",
   "metadata": {},
   "outputs": [],
   "source": [
    "i=1\n",
    "while i<11:\n",
    "    print(i,end=' ')\n",
    "    i=i-1\n",
    "#infinte loop\n",
    "# step-1: i=1 while 1<11 true print(1) i=1-1 i=0\n",
    "# step-2: i=0 while 0<11 true print(1) i=0-1 i=-1\n",
    "# step-3: i=-1 while -1<11 true print(1) i=-1-1 i=-2\n",
    "#infinte loop"
   ]
  },
  {
   "cell_type": "code",
   "execution_count": 13,
   "id": "3f185ac8-130d-484f-9179-7732ad8ff527",
   "metadata": {},
   "outputs": [
    {
     "name": "stdout",
     "output_type": "stream",
     "text": [
      "1 0 -1 -2 -3 -4 -5 -6 -7 -8 -9 "
     ]
    }
   ],
   "source": [
    "i=1\n",
    "while i<11:\n",
    "    print(i,end=' ')\n",
    "    i=i-1\n",
    "    if i==-10:\n",
    "        break"
   ]
  },
  {
   "cell_type": "code",
   "execution_count": 15,
   "id": "b93fe07a-1354-4d20-9dcb-a73597a100c1",
   "metadata": {},
   "outputs": [
    {
     "name": "stdout",
     "output_type": "stream",
     "text": [
      "20 19 18 17 16 15 14 13 12 11 10 9 8 7 6 5 4 3 2 1 "
     ]
    }
   ],
   "source": [
    "#20 to 0\n",
    "#-20 to 0\n",
    "i=20\n",
    "while i>0:\n",
    "    print(i,end=' ')\n",
    "    i=i-1\n",
    "    "
   ]
  },
  {
   "cell_type": "code",
   "execution_count": 17,
   "id": "86653d59-9e82-41b8-913e-b0ce6aee90bd",
   "metadata": {},
   "outputs": [
    {
     "name": "stdout",
     "output_type": "stream",
     "text": [
      "-20 -19 -18 -17 -16 -15 -14 -13 -12 -11 -10 -9 -8 -7 -6 -5 -4 -3 -2 -1 "
     ]
    }
   ],
   "source": [
    "i=-20\n",
    "while i<0:\n",
    "    print(i,end=' ')\n",
    "    i=i+1"
   ]
  },
  {
   "cell_type": "markdown",
   "id": "5ba20ef4-63ac-48db-91d0-366f784e1524",
   "metadata": {},
   "source": [
    "**true**"
   ]
  },
  {
   "cell_type": "markdown",
   "id": "0fe29352-c9a7-4761-9ddd-94f656602271",
   "metadata": {},
   "source": [
    "- if you dont know about valid condition to enter inside while loop\n",
    "- then use True\n",
    "- True will give entry pass irrespective of the condition\n",
    "- but if you want to come we need apply if condition and break inside the while loop\n",
    "- if you dont applu the break inside,then it becomes infinte loop"
   ]
  },
  {
   "cell_type": "code",
   "execution_count": null,
   "id": "b97f02fa-2eaf-4773-9648-58f69635a85a",
   "metadata": {},
   "outputs": [],
   "source": [
    "i=1\n",
    "while True:\n",
    "    print(i,end=' ')\n",
    "    i=i+1\n",
    "\n",
    "i=1\n",
    "while True:\n",
    "    print(i,end=' ')\n",
    "    i=i-1\n",
    "    if i==-10:\n",
    "        break\n",
    "\n",
    "#20 to 0\n",
    "#-20 to 0\n",
    "i=20\n",
    "while True:\n",
    "    print(i,end=' ')\n",
    "    i=i-1\n",
    "\n",
    "\n",
    "i=-20\n",
    "while True:\n",
    "    print(i,end=' ')\n",
    "    i=i+1\n",
    "    "
   ]
  },
  {
   "cell_type": "code",
   "execution_count": 1,
   "id": "711b8c64-d2a5-4d87-bdcd-426134359e44",
   "metadata": {},
   "outputs": [
    {
     "name": "stdout",
     "output_type": "stream",
     "text": [
      "1 2 3 4 5 6 7 8 9 10 11 12 "
     ]
    }
   ],
   "source": [
    "i=1\n",
    "while True:\n",
    "    print(i,end=' ')\n",
    "    i=i+1\n",
    "    if i==13:\n",
    "        break"
   ]
  },
  {
   "cell_type": "code",
   "execution_count": 2,
   "id": "03b10e48-ede9-444c-8d99-1077f62c900d",
   "metadata": {},
   "outputs": [
    {
     "name": "stdout",
     "output_type": "stream",
     "text": [
      "1 0 -1 -2 -3 -4 -5 -6 -7 -8 -9 "
     ]
    }
   ],
   "source": [
    "i=1\n",
    "while True:\n",
    "    print(i,end=' ')\n",
    "    i=i-1\n",
    "    if i==-10:\n",
    "        break"
   ]
  },
  {
   "cell_type": "code",
   "execution_count": 1,
   "id": "b812db66-ab36-4bbd-9fb7-358d3ec416cf",
   "metadata": {},
   "outputs": [
    {
     "name": "stdout",
     "output_type": "stream",
     "text": [
      "20 "
     ]
    }
   ],
   "source": [
    "i=20\n",
    "while True:\n",
    "    print(i,end=' ')\n",
    "    i=i-1\n",
    "    break\n"
   ]
  },
  {
   "cell_type": "code",
   "execution_count": 2,
   "id": "93e4523a-4949-4d7e-902b-397121e57750",
   "metadata": {},
   "outputs": [
    {
     "name": "stdout",
     "output_type": "stream",
     "text": [
      "-20 -19 -18 -17 -16 -15 -14 -13 -12 -11 -10 -9 -8 -7 -6 -5 -4 -3 -2 -1 0 1 2 3 4 5 6 7 8 9 10 11 12 13 14 15 16 17 18 19 "
     ]
    }
   ],
   "source": [
    "i=-20\n",
    "while True:\n",
    "    print(i,end=' ')\n",
    "    i=i+1\n",
    "    if i==20:\n",
    "        break"
   ]
  },
  {
   "cell_type": "code",
   "execution_count": 1,
   "id": "e50c94aa-86f5-4fe4-8527-a9c6892c0bc0",
   "metadata": {},
   "outputs": [
    {
     "name": "stdout",
     "output_type": "stream",
     "text": [
      "1 2 3 4 5 6 7 8 9 10 11 12 13 14 15 16 17 18 19 ================ second method==============\n",
      "1 2 3 4 5 6 7 8 9 "
     ]
    }
   ],
   "source": [
    "i=1\n",
    "while True:\n",
    "    print(i,end=' ')\n",
    "    i=i+1\n",
    "    if i==20:\n",
    "        break\n",
    "print('================ second method==============')\n",
    "i=1\n",
    "while True:\n",
    "    print(i,end=' ')\n",
    "    i=i+1\n",
    "    if i==10:\n",
    "        break"
   ]
  },
  {
   "cell_type": "code",
   "execution_count": 2,
   "id": "0f4f881f-033c-4c8a-9704-2d1edb82f39c",
   "metadata": {},
   "outputs": [
    {
     "name": "stdout",
     "output_type": "stream",
     "text": [
      "20 19 18 17 16 15 14 13 12 11 10 9 8 7 6 5 4 3 2 1 ======== seconnd=====\n",
      "1 2 3 4 5 6 7 8 9 "
     ]
    }
   ],
   "source": [
    "i=20\n",
    "while i>0:\n",
    "    print(i,end=' ')\n",
    "    i=i-1\n",
    "print(\"======== seconnd=====\")\n",
    "i=1\n",
    "while True:\n",
    "    print(i,end=' ')\n",
    "    i=i+1\n",
    "    if i==10:\n",
    "        break\n",
    "      \n"
   ]
  },
  {
   "cell_type": "code",
   "execution_count": 3,
   "id": "23bb34b2-2eaa-4cc7-8d96-8524a767cfcd",
   "metadata": {},
   "outputs": [
    {
     "name": "stdout",
     "output_type": "stream",
     "text": [
      "-20 -19 -18 -17 -16 -15 -14 -13 -12 -11 -10 -9 -8 -7 -6 -5 -4 -3 -2 -1 0 ======== seconnd=====\n",
      "-19 -18 -17 -16 -15 -14 -13 -12 -11 -10 -9 -8 -7 -6 -5 -4 -3 -2 -1 0 1 "
     ]
    }
   ],
   "source": [
    "i=-20\n",
    "while i<1:\n",
    "    print(i,end=' ')\n",
    "    i=i+1\n",
    "print(\"======== seconnd=====\")\n",
    "i=-20\n",
    "while i<1:\n",
    "    i=i+1\n",
    "    print(i,end=' ')\n",
    "    \n",
    "    "
   ]
  },
  {
   "cell_type": "code",
   "execution_count": 4,
   "id": "40d7795a-6f0d-4db2-b1da-958c75dcd503",
   "metadata": {},
   "outputs": [
    {
     "name": "stdout",
     "output_type": "stream",
     "text": [
      "97 is odd\n",
      "18 is even\n",
      "76 is even\n"
     ]
    }
   ],
   "source": [
    "import random\n",
    "for i in range(3):\n",
    "    num=random.randint(1,100)\n",
    "    if num%2==0:\n",
    "        print(f'{num} is even')\n",
    "    else:\n",
    "        print(f'{num} is odd')\n",
    "    "
   ]
  },
  {
   "cell_type": "code",
   "execution_count": null,
   "id": "77e84bf0-7d42-4ae6-8f12-21bcc76afdc7",
   "metadata": {},
   "outputs": [],
   "source": [
    "######## all for loop need to convert into while=======\n",
    "#kindly  complete all questions,we will do same replica in while loop\n",
    "#1q)for example\n",
    "# take a random number between 1 to 100\n",
    "#print is is a even number and odd number\n",
    "#you need to generate 3 random number\n",
    "\n",
    "#2Q) wap ask the user print the number is even or odd between 10 to 20\n",
    "\n",
    "#3Q) wap ask the user print the square of the number between\n",
    "#20 and 25\n",
    "\n",
    "#4Q) wap ask the user enter number three times find the square of the number\n",
    "#how many times loop times should run\n",
    "\n",
    "#5Q)print the 14th table\n",
    "#ans: 14x1=14\n",
    "#     14x2=28\n",
    "#     14x3=42\n",
    "#\n",
    "#\n",
    "#    14x10=140\n",
    "# how many time 10\n",
    "\n",
    "\n",
    "#6Q) find the factors of 75\n",
    "#step-1: iterate the loop = which number factor you want\n",
    "#step-2: apply the if condition \n",
    "#      cond=divide the number with i\n",
    "\n",
    "#7Q)write the sum of first 10 natural numbers\n",
    "#1 to10\n",
    "#1+2+3+4+5+6+7+8+9+10=55\n",
    "\n",
    "#8Q) average of first 1 to 10 numbers\n",
    "# avg=summation of all the numbers/total numbers\n",
    "#wap to find the average of 'n' numbers in python\n",
    "\n",
    "#9Q)find the number of divisorsnof 75\n",
    "#ans=1,3,5,15,25,75\n",
    "# Number=6\n",
    "\n",
    "#10Q)get a random number between 1 to 10:num1\n",
    "#ask the user enter a number:num2\n",
    "#if num1==num2 then print won\n",
    "#else print fail\n",
    "\n",
    "# give 3 chances\n",
    "\n",
    "#case-2: whenever you won the code should stop\n",
    "\n",
    "#case-3: #suppose i want to give 4 chances\n",
    "#suppose i want to give 4 chances\n",
    "#every time you fail i want to display\n",
    "#   number ofchances left\n",
    "#  if all the chances you are used\n",
    "# try again after 24 hours\n",
    "#\n",
    "# if you are win\n",
    "\n",
    "#11Q)#wap ask the user get 5 random numbers\n",
    "#get it is an even number or odd number\n",
    "#also count how many even numbers there\n",
    "#and count how many odd numbers are there\n",
    "\n",
    "#idea\n",
    "# take two counters one is even and odd count\n",
    "#for looping 5 times only\n",
    "#each time taken the random number\n",
    "#if condition\n",
    "#  true counter update\n",
    "#else\n",
    "#   update the counter\n",
    "\n",
    "#12Q)#wap ask the user get 5 random numbers\n",
    "#get it is an even number\n",
    "#also count how many even numbers are there \n",
    "#also count how many odd numbers are there\n",
    "# i want summ even numbers\n",
    "# i want summ odd numbers\n",
    "\n"
   ]
  },
  {
   "cell_type": "code",
   "execution_count": 6,
   "id": "452179f0-64ba-4f8e-a4af-935c30d00d2c",
   "metadata": {},
   "outputs": [
    {
     "data": {
      "text/plain": [
       "(65, 66)"
      ]
     },
     "execution_count": 6,
     "metadata": {},
     "output_type": "execute_result"
    }
   ],
   "source": [
    "#A===65\n",
    "#B===66\n",
    "#C===67\n",
    "ord('A'),ord('B')"
   ]
  },
  {
   "cell_type": "code",
   "execution_count": 7,
   "id": "7bf06020-72c5-4a75-b0ce-2f07f669830c",
   "metadata": {},
   "outputs": [
    {
     "data": {
      "text/plain": [
       "'A'"
      ]
     },
     "execution_count": 7,
     "metadata": {},
     "output_type": "execute_result"
    }
   ],
   "source": [
    "chr(65)"
   ]
  },
  {
   "cell_type": "code",
   "execution_count": null,
   "id": "3bb56ddf-f5b5-465f-aec0-4e77b71fdd4d",
   "metadata": {},
   "outputs": [],
   "source": [
    "#6Q)"
   ]
  }
 ],
 "metadata": {
  "kernelspec": {
   "display_name": "Python 3 (ipykernel)",
   "language": "python",
   "name": "python3"
  },
  "language_info": {
   "codemirror_mode": {
    "name": "ipython",
    "version": 3
   },
   "file_extension": ".py",
   "mimetype": "text/x-python",
   "name": "python",
   "nbconvert_exporter": "python",
   "pygments_lexer": "ipython3",
   "version": "3.11.7"
  }
 },
 "nbformat": 4,
 "nbformat_minor": 5
}
